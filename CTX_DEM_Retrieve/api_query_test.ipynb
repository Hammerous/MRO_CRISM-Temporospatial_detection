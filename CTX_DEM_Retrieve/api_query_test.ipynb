{
 "cells": [
  {
   "cell_type": "markdown",
   "metadata": {},
   "source": [
    "Sec 1: Transformation from geographic projection coordinates to longtitude/latitude bounding box"
   ]
  },
  {
   "cell_type": "code",
   "execution_count": 1,
   "metadata": {},
   "outputs": [
    {
     "name": "stdout",
     "output_type": "stream",
     "text": [
      "Transformed Bounding Box (Target Projection): [[76.97670509 17.72565618 77.16420794 17.9416318 ]]\n"
     ]
    }
   ],
   "source": [
    "from pystac_client import Client\n",
    "import pandas as pd\n",
    "import geopandas as gpd\n",
    "from shapely.geometry import shape, mapping\n",
    "import logging\n",
    "\n",
    "# Set up logging to track API calls\n",
    "logging.basicConfig()\n",
    "logger = logging.getLogger('pystac_client')\n",
    "logger.setLevel(logging.INFO)\n",
    "\n",
    "# Read the shapefile to determine the bounding box\n",
    "import geopandas as gpd\n",
    "from pyproj import CRS\n",
    "\n",
    "proj_wkt2 = \"PROJCS[\\\"Mars (2015) - Sphere / Ocentric / Equirectangular, clon = 0\\\",GEOGCS[\\\"Mars (2015) - Sphere / Ocentric\\\",DATUM[\\\"Mars (2015) - Sphere\\\",SPHEROID[\\\"Mars (2015) - Sphere\\\",3396190,0]],PRIMEM[\\\"Reference Meridian\\\",0],UNIT[\\\"degree\\\",0.0174532925199433,AUTHORITY[\\\"EPSG\\\",\\\"9122\\\"]]],PROJECTION[\\\"Equirectangular\\\"],PARAMETER[\\\"standard_parallel_1\\\",0],PARAMETER[\\\"central_meridian\\\",0],PARAMETER[\\\"false_easting\\\",0],PARAMETER[\\\"false_northing\\\",0],UNIT[\\\"metre\\\",1,AUTHORITY[\\\"EPSG\\\",\\\"9001\\\"]],AXIS[\\\"Easting\\\",EAST],AXIS[\\\"Northing\\\",NORTH]]\"\n",
    "\n",
    "# Define the target Mars lon/lat coordinate system\n",
    "mars_lonlat = CRS.from_proj4(\n",
    "    \"+proj=longlat +a=3396190 +b=3396190 +no_defs\"\n",
    ")\n",
    "# Load the shapefile\n",
    "shp_file = \"roi_test.shp\"\n",
    "gdf = gpd.read_file(shp_file)\n",
    "# Reproject the GeoDataFrame\n",
    "gdf.to_crs(mars_lonlat, inplace=True)\n",
    "bounding_boxes = gdf.geometry.bounds.values\n",
    "print(\"Transformed Bounding Box (Target Projection):\", bounding_boxes)"
   ]
  },
  {
   "cell_type": "markdown",
   "metadata": {},
   "source": [
    "Sec 2: Perfrom query of link resource using API from USGS"
   ]
  },
  {
   "cell_type": "code",
   "execution_count": 2,
   "metadata": {},
   "outputs": [
    {
     "name": "stdout",
     "output_type": "stream",
     "text": [
      "File saved to output_data_test.gpkg\n",
      "Number of items retrieved: 32\n"
     ]
    }
   ],
   "source": [
    "output_file = \"output_data_test.gpkg\"\n",
    "\n",
    "# Set up the STAC catalog client\n",
    "catalog_url = \"https://stac.astrogeology.usgs.gov/api/\"\n",
    "catalog = Client.open(catalog_url)\n",
    "\n",
    "# database to query\n",
    "database = 'mro_ctx_controlled_usgs_dtms'\n",
    "\n",
    "# Simplify and convert geometry to GeoJSON once\n",
    "tolerance = 90  # Simplify geometry with a tolerance of 90 meters\n",
    "simplified_geometries = [mapping(geometry.simplify(tolerance, preserve_topology=True)) for geometry in gdf.geometry]\n",
    "\n",
    "# Initialize a set to track seen IDs and a list to store unique items\n",
    "seen_ids = set()\n",
    "items = [\n",
    "    {**feature, 'geometry': shape(feature['geometry'])}\n",
    "    for geojson_geometry in simplified_geometries\n",
    "    for feature in catalog.search(collections=[database], intersects=geojson_geometry)\n",
    "                         .item_collection_as_dict()['features']\n",
    "    if feature['id'] not in seen_ids and not seen_ids.add(feature['id'])\n",
    "]\n",
    "'''\n",
    "# Perform the database query in batches, if possible, to minimize repeated calls\n",
    "items = []\n",
    "for geojson_geometry in simplified_geometries:\n",
    "    # Perform the search once for each geometry\n",
    "    result = catalog.search(collections=[database], intersects=geojson_geometry, max_items=3)\n",
    "    feature_list = result.item_collection_as_dict()['features']  # List of features from the search result\n",
    "    # Collect and process features from search results\n",
    "    for feature in feature_list:\n",
    "        # Convert geometry to Shapely shape and append to items list\n",
    "        feature['geometry'] = shape(feature['geometry'])\n",
    "        items.append(feature)\n",
    "'''\n",
    "\n",
    "# Convert to a GeoDataFrame and set the custom CRS\n",
    "items = gpd.GeoDataFrame(pd.json_normalize(items), crs=mars_lonlat)  # Convert to GeoDataFrame\n",
    "\n",
    "# Save the GeoDataFrame to a .gpkg file\n",
    "items.to_file(output_file)\n",
    "\n",
    "print(f\"File saved to {output_file}\")\n",
    "# Verify the retrieved items\n",
    "print(f\"Number of items retrieved: {items.shape[0]}\")"
   ]
  },
  {
   "cell_type": "code",
   "execution_count": 3,
   "metadata": {},
   "outputs": [
    {
     "name": "stdout",
     "output_type": "stream",
     "text": [
      "URLs have been written to 'ctx_dtm_to_download.txt'.\n"
     ]
    }
   ],
   "source": [
    "# Write URLs to a text file\n",
    "output_file = \"ctx_dtm_to_download.txt\"\n",
    "with open(output_file, 'w') as f:\n",
    "    for _, row in items.iterrows():  # Iterate over rows of the GeoDataFrame\n",
    "        # Extract the URLs from the row\n",
    "        url1 = row['assets.image.href']\n",
    "        url2 = row['assets.orthoimage.href']\n",
    "        url3 = row['assets.dtm.href']\n",
    "        \n",
    "        # Ensure the URL strings are correctly formatted before writing (if needed)\n",
    "        updated_url = f\"{url1}\\n{url2}\\n{url3}\\n\"\n",
    "        \n",
    "        # Write the URLs to the file\n",
    "        f.write(updated_url)\n",
    "\n",
    "print(f\"URLs have been written to '{output_file}'.\")"
   ]
  }
 ],
 "metadata": {
  "language_info": {
   "name": "python"
  }
 },
 "nbformat": 4,
 "nbformat_minor": 2
}
