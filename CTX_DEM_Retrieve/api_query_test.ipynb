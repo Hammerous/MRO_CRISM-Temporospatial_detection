{
 "cells": [
  {
   "cell_type": "code",
   "execution_count": 5,
   "metadata": {},
   "outputs": [
    {
     "name": "stdout",
     "output_type": "stream",
     "text": [
      "Transformed Bounding Box (Target Projection): [[76.97670509 17.72565618 77.16420794 17.9416318 ]]\n"
     ]
    }
   ],
   "source": [
    "from pystac_client import Client\n",
    "import pandas as pd\n",
    "import geopandas as gpd\n",
    "from shapely.geometry import shape, box\n",
    "import logging\n",
    "\n",
    "# Set up logging to track API calls\n",
    "logging.basicConfig()\n",
    "logger = logging.getLogger('pystac_client')\n",
    "logger.setLevel(logging.INFO)\n",
    "\n",
    "# Read the shapefile to determine the bounding box\n",
    "import geopandas as gpd\n",
    "from pyproj import CRS, Transformer\n",
    "\n",
    "# Define the custom Mars projection (replace with your Mars projection string)\n",
    "mars_proj = CRS.from_proj4(\n",
    "    \"+proj=eqc +a=3396190 +b=3396190 +lat_ts=0 +lon_0=0 +x_0=0 +y_0=0 +units=m +no_defs\"\n",
    ")\n",
    "# Define the target Mars lon/lat coordinate system\n",
    "mars_lonlat = CRS.from_proj4(\n",
    "    \"+proj=longlat +a=3396190 +b=3396190 +no_defs\"\n",
    ")\n",
    "# Create a transformer\n",
    "transformer = Transformer.from_crs(mars_proj, mars_lonlat, always_xy=True)\n",
    "# Load the shapefile\n",
    "shp_file = \"roi_test.shp\"\n",
    "gdf = gpd.read_file(shp_file)\n",
    "# Reproject the GeoDataFrame\n",
    "gdf.to_crs(mars_lonlat.to_string(), inplace=True)\n",
    "bounding_boxes = gdf.geometry.bounds.values\n",
    "print(\"Transformed Bounding Box (Target Projection):\", bounding_boxes)\n",
    "bounding_box = bounding_boxes[0]"
   ]
  },
  {
   "cell_type": "code",
   "execution_count": 13,
   "metadata": {},
   "outputs": [
    {
     "name": "stdout",
     "output_type": "stream",
     "text": [
      "Number of items retrieved: 33\n"
     ]
    }
   ],
   "source": [
    "# Set up the STAC catalog client\n",
    "catalog_url = \"https://stac.astrogeology.usgs.gov/api/\"\n",
    "catalog = Client.open(catalog_url)\n",
    "\n",
    "# List of databases to query\n",
    "databases = ['mro_ctx_controlled_usgs_dtms']\n",
    "results = []\n",
    "\n",
    "# Perform the query for each database\n",
    "for database in databases:\n",
    "    result = catalog.search(collections=[database], bbox=bounding_box)\n",
    "    results.append(result)\n",
    "\n",
    "# Get all items as a dictionary\n",
    "items = []\n",
    "for r in results:\n",
    "    items += r.item_collection_as_dict()['features']\n",
    "for i in items:\n",
    "    i['geometry'] = shape(i['geometry'])\n",
    "items_gdf = gpd.GeoDataFrame(pd.json_normalize(items))\n",
    "# Verify the retrieved items\n",
    "print(f\"Number of items retrieved: {len(items_gdf)}\")"
   ]
  },
  {
   "cell_type": "code",
   "execution_count": 14,
   "metadata": {},
   "outputs": [
    {
     "name": "stdout",
     "output_type": "stream",
     "text": [
      "URLs have been written to 'ctx_dtm_to_download.txt'.\n"
     ]
    }
   ],
   "source": [
    "# Write URLs to a text file\n",
    "output_file = \"ctx_dtm_to_download.txt\"\n",
    "with open(output_file, 'w') as f:\n",
    "    for index in range(len(items_gdf)):\n",
    "        old_url = items_gdf['assets.image.href'].iloc[index]\n",
    "        updated_url = f\"s3_noauth:/{old_url.split('/')[2].split('.')[0]}/{'/'.join(old_url.split('/')[3:])}\\n\"\n",
    "        f.write(updated_url)\n",
    "\n",
    "print(f\"URLs have been written to '{output_file}'.\")"
   ]
  }
 ],
 "metadata": {
  "language_info": {
   "name": "python"
  }
 },
 "nbformat": 4,
 "nbformat_minor": 2
}
