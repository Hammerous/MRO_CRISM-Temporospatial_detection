{
 "cells": [
  {
   "cell_type": "markdown",
   "metadata": {},
   "source": [
    "Basic Procedures"
   ]
  },
  {
   "cell_type": "code",
   "execution_count": 2,
   "metadata": {},
   "outputs": [],
   "source": [
    "import os\n",
    "import geopandas as gpd\n",
    "from itertools import combinations\n",
    "import pandas as pd"
   ]
  },
  {
   "cell_type": "markdown",
   "metadata": {},
   "source": [
    "Load File"
   ]
  },
  {
   "cell_type": "code",
   "execution_count": 3,
   "metadata": {},
   "outputs": [
    {
     "name": "stdout",
     "output_type": "stream",
     "text": [
      "GEOGCS[\"Mars_2000_(Sphere)\",DATUM[\"Mars_2000_(Sphere)\",SPHEROID[\"Mars_2000_(Sphere)\",3396190,0,AUTHORITY[\"ESRI\",\"107971\"]],AUTHORITY[\"ESRI\",\"106971\"]],PRIMEM[\"Reference_Meridian\",0,AUTHORITY[\"ESRI\",\"108900\"]],UNIT[\"degree\",0.0174532925199433,AUTHORITY[\"EPSG\",\"9122\"]],AXIS[\"Latitude\",NORTH],AXIS[\"Longitude\",EAST],AUTHORITY[\"ESRI\",\"104971\"]]\n",
      "10495\n"
     ]
    }
   ],
   "source": [
    "def print_crs_of_shp_file(file_path):\n",
    "    # 将shapefile加载到GeoDataFrame中\n",
    "    gdf = gpd.read_file(file_path)\n",
    "    # 打印坐标参考系统（CRS）信息\n",
    "    print(gdf.crs)\n",
    "    return gdf\n",
    "\n",
    "def load_and_merge_shp_files(directory):\n",
    "    # 初始化一个空列表来存储每个GeoDataFrame\n",
    "    gdfs = []\n",
    "\n",
    "    # 遍历目录中的所有文件\n",
    "    for filename in os.listdir(directory):\n",
    "        if filename.endswith('.shp'):\n",
    "            # 将shapefile加载到GeoDataFrame中\n",
    "            gdf = print_crs_of_shp_file(os.path.join(directory, filename))\n",
    "            #gdf = gpd.read_file(os.path.join(directory, filename))\n",
    "            # 将GeoDataFrame添加到列表中\n",
    "            gdfs.append(gdf)\n",
    "\n",
    "    # 将所有GeoDataFrame合并为一个大的GeoDataFrame\n",
    "    merged_gdf = gpd.GeoDataFrame(pd.concat(gdfs, ignore_index=True))\n",
    "\n",
    "    return merged_gdf\n",
    "\n",
    "directory = r'mars_mro_crism_mtrdr_c0a'\n",
    "merged_gdf = load_and_merge_shp_files(directory)[['ProductId','geometry']]\n",
    "print(merged_gdf.shape[0])"
   ]
  },
  {
   "cell_type": "markdown",
   "metadata": {},
   "source": [
    "Initialize Polygon Combination Sequence"
   ]
  },
  {
   "cell_type": "code",
   "execution_count": 4,
   "metadata": {},
   "outputs": [
    {
     "name": "stdout",
     "output_type": "stream",
     "text": [
      "Shp File Loaded !!!\n",
      "Finding intersectiong polygons ...\n",
      "10494         2544\n"
     ]
    }
   ],
   "source": [
    "def find_overlapping_polygons(gdf):\n",
    "    # 初始化一个字典来存储重叠多边形的索引集合\n",
    "    intsec_idx = set()\n",
    "    # 遍历GeoDataFrame中的每个多边形\n",
    "    for idx, poly in gdf.iterrows():\n",
    "        print(f\"\\r{idx}         \", end='')\n",
    "        intsec_polys = gdf[gdf.intersects(poly['geometry'])]   # 找到与当前多边形相交的多边形，包括自身\n",
    "        # 如果存在重叠多边形，将集合添加到字典中\n",
    "        if len(intsec_polys) > 1:\n",
    "            intsec_idx.add(frozenset(intsec_polys.index.tolist()))\n",
    "    return intsec_idx\n",
    "\n",
    "print(\"Shp File Loaded !!!\\nFinding intersectiong polygons ...\")\n",
    "intsec_idxs = find_overlapping_polygons(merged_gdf)\n",
    "print(len(intsec_idxs))"
   ]
  },
  {
   "cell_type": "markdown",
   "metadata": {},
   "source": [
    "Process Combinations"
   ]
  },
  {
   "cell_type": "code",
   "execution_count": 6,
   "metadata": {},
   "outputs": [
    {
     "name": "stdout",
     "output_type": "stream",
     "text": [
      "\n",
      "Assessing Intersecting Area and View Numbers\n",
      " 0/2544         "
     ]
    },
    {
     "ename": "KeyError",
     "evalue": "'UTCstart'",
     "output_type": "error",
     "traceback": [
      "\u001b[1;31m---------------------------------------------------------------------------\u001b[0m",
      "\u001b[1;31mKeyError\u001b[0m                                  Traceback (most recent call last)",
      "File \u001b[1;32me:\\Softwares\\Anaconda\\envs\\envi\\lib\\site-packages\\pandas\\core\\indexes\\base.py:3805\u001b[0m, in \u001b[0;36mIndex.get_loc\u001b[1;34m(self, key)\u001b[0m\n\u001b[0;32m   3804\u001b[0m \u001b[38;5;28;01mtry\u001b[39;00m:\n\u001b[1;32m-> 3805\u001b[0m     \u001b[38;5;28;01mreturn\u001b[39;00m \u001b[38;5;28;43mself\u001b[39;49m\u001b[38;5;241;43m.\u001b[39;49m\u001b[43m_engine\u001b[49m\u001b[38;5;241;43m.\u001b[39;49m\u001b[43mget_loc\u001b[49m\u001b[43m(\u001b[49m\u001b[43mcasted_key\u001b[49m\u001b[43m)\u001b[49m\n\u001b[0;32m   3806\u001b[0m \u001b[38;5;28;01mexcept\u001b[39;00m \u001b[38;5;167;01mKeyError\u001b[39;00m \u001b[38;5;28;01mas\u001b[39;00m err:\n",
      "File \u001b[1;32mindex.pyx:167\u001b[0m, in \u001b[0;36mpandas._libs.index.IndexEngine.get_loc\u001b[1;34m()\u001b[0m\n",
      "File \u001b[1;32mindex.pyx:196\u001b[0m, in \u001b[0;36mpandas._libs.index.IndexEngine.get_loc\u001b[1;34m()\u001b[0m\n",
      "File \u001b[1;32mpandas\\\\_libs\\\\hashtable_class_helper.pxi:7081\u001b[0m, in \u001b[0;36mpandas._libs.hashtable.PyObjectHashTable.get_item\u001b[1;34m()\u001b[0m\n",
      "File \u001b[1;32mpandas\\\\_libs\\\\hashtable_class_helper.pxi:7089\u001b[0m, in \u001b[0;36mpandas._libs.hashtable.PyObjectHashTable.get_item\u001b[1;34m()\u001b[0m\n",
      "\u001b[1;31mKeyError\u001b[0m: 'UTCstart'",
      "\nThe above exception was the direct cause of the following exception:\n",
      "\u001b[1;31mKeyError\u001b[0m                                  Traceback (most recent call last)",
      "Cell \u001b[1;32mIn[6], line 47\u001b[0m\n\u001b[0;32m     45\u001b[0m intsec_gdf \u001b[38;5;241m=\u001b[39m merged_gdf\u001b[38;5;241m.\u001b[39miloc[\u001b[38;5;28mlist\u001b[39m(set_sqc)]\n\u001b[0;32m     46\u001b[0m \u001b[38;5;66;03m# Step 2: Compute the intersection of all polygons\u001b[39;00m\n\u001b[1;32m---> 47\u001b[0m max_overlap, max_overlap_size, max_time_span  \u001b[38;5;241m=\u001b[39m \u001b[43mcompute_max_overlap\u001b[49m\u001b[43m(\u001b[49m\u001b[43mintsec_gdf\u001b[49m\u001b[43m,\u001b[49m\u001b[43m \u001b[49m\u001b[38;5;241;43m3\u001b[39;49m\u001b[43m)\u001b[49m\n\u001b[0;32m     48\u001b[0m \u001b[38;5;66;03m# Step 3: Calculate the area of the intersected region\u001b[39;00m\n\u001b[0;32m     49\u001b[0m assessment[\u001b[38;5;124m'\u001b[39m\u001b[38;5;124mArea(km^2)\u001b[39m\u001b[38;5;124m'\u001b[39m]\u001b[38;5;241m.\u001b[39mappend(max_overlap\u001b[38;5;241m.\u001b[39marea\u001b[38;5;241m/\u001b[39m\u001b[38;5;241m1e6\u001b[39m)\n",
      "Cell \u001b[1;32mIn[6], line 29\u001b[0m, in \u001b[0;36mcompute_max_overlap\u001b[1;34m(gdf, max_num)\u001b[0m\n\u001b[0;32m     27\u001b[0m             max_overlap_area \u001b[38;5;241m=\u001b[39m overlap\n\u001b[0;32m     28\u001b[0m             max_overlap_size \u001b[38;5;241m=\u001b[39m n\n\u001b[1;32m---> 29\u001b[0m             max_time_span \u001b[38;5;241m=\u001b[39m \u001b[43mgdf\u001b[49m\u001b[38;5;241;43m.\u001b[39;49m\u001b[43miloc\u001b[49m\u001b[43m[\u001b[49m\u001b[38;5;28;43mlist\u001b[39;49m\u001b[43m(\u001b[49m\u001b[43mindices\u001b[49m\u001b[43m)\u001b[49m\u001b[43m]\u001b[49m\u001b[43m[\u001b[49m\u001b[38;5;124;43m\"\u001b[39;49m\u001b[38;5;124;43mUTCstart\u001b[39;49m\u001b[38;5;124;43m\"\u001b[39;49m\u001b[43m]\u001b[49m\u001b[38;5;241m.\u001b[39mmax() \u001b[38;5;241m-\u001b[39m gdf\u001b[38;5;241m.\u001b[39miloc[\u001b[38;5;28mlist\u001b[39m(indices)][\u001b[38;5;124m\"\u001b[39m\u001b[38;5;124mUTCstart\u001b[39m\u001b[38;5;124m\"\u001b[39m]\u001b[38;5;241m.\u001b[39mmin()\n\u001b[0;32m     31\u001b[0m \u001b[38;5;66;03m# 如果在当前组合大小下无交集，则返回上一次的结果\u001b[39;00m\n\u001b[0;32m     32\u001b[0m \u001b[38;5;28;01mif\u001b[39;00m max_overlap_area \u001b[38;5;129;01mis\u001b[39;00m \u001b[38;5;28;01mNone\u001b[39;00m \u001b[38;5;129;01mor\u001b[39;00m max_overlap_area\u001b[38;5;241m.\u001b[39mis_empty:\n",
      "File \u001b[1;32me:\\Softwares\\Anaconda\\envs\\envi\\lib\\site-packages\\geopandas\\geodataframe.py:1750\u001b[0m, in \u001b[0;36mGeoDataFrame.__getitem__\u001b[1;34m(self, key)\u001b[0m\n\u001b[0;32m   1744\u001b[0m \u001b[38;5;28;01mdef\u001b[39;00m \u001b[38;5;21m__getitem__\u001b[39m(\u001b[38;5;28mself\u001b[39m, key):\n\u001b[0;32m   1745\u001b[0m \u001b[38;5;250m    \u001b[39m\u001b[38;5;124;03m\"\"\"\u001b[39;00m\n\u001b[0;32m   1746\u001b[0m \u001b[38;5;124;03m    If the result is a column containing only 'geometry', return a\u001b[39;00m\n\u001b[0;32m   1747\u001b[0m \u001b[38;5;124;03m    GeoSeries. If it's a DataFrame with any columns of GeometryDtype,\u001b[39;00m\n\u001b[0;32m   1748\u001b[0m \u001b[38;5;124;03m    return a GeoDataFrame.\u001b[39;00m\n\u001b[0;32m   1749\u001b[0m \u001b[38;5;124;03m    \"\"\"\u001b[39;00m\n\u001b[1;32m-> 1750\u001b[0m     result \u001b[38;5;241m=\u001b[39m \u001b[38;5;28;43msuper\u001b[39;49m\u001b[43m(\u001b[49m\u001b[43m)\u001b[49m\u001b[38;5;241;43m.\u001b[39;49m\u001b[38;5;21;43m__getitem__\u001b[39;49m\u001b[43m(\u001b[49m\u001b[43mkey\u001b[49m\u001b[43m)\u001b[49m\n\u001b[0;32m   1751\u001b[0m     \u001b[38;5;66;03m# Custom logic to avoid waiting for pandas GH51895\u001b[39;00m\n\u001b[0;32m   1752\u001b[0m     \u001b[38;5;66;03m# result is not geometry dtype for multi-indexes\u001b[39;00m\n\u001b[0;32m   1753\u001b[0m     \u001b[38;5;28;01mif\u001b[39;00m (\n\u001b[0;32m   1754\u001b[0m         pd\u001b[38;5;241m.\u001b[39mapi\u001b[38;5;241m.\u001b[39mtypes\u001b[38;5;241m.\u001b[39mis_scalar(key)\n\u001b[0;32m   1755\u001b[0m         \u001b[38;5;129;01mand\u001b[39;00m key \u001b[38;5;241m==\u001b[39m \u001b[38;5;124m\"\u001b[39m\u001b[38;5;124m\"\u001b[39m\n\u001b[1;32m   (...)\u001b[0m\n\u001b[0;32m   1758\u001b[0m         \u001b[38;5;129;01mand\u001b[39;00m \u001b[38;5;129;01mnot\u001b[39;00m is_geometry_type(result)\n\u001b[0;32m   1759\u001b[0m     ):\n",
      "File \u001b[1;32me:\\Softwares\\Anaconda\\envs\\envi\\lib\\site-packages\\pandas\\core\\frame.py:4102\u001b[0m, in \u001b[0;36mDataFrame.__getitem__\u001b[1;34m(self, key)\u001b[0m\n\u001b[0;32m   4100\u001b[0m \u001b[38;5;28;01mif\u001b[39;00m \u001b[38;5;28mself\u001b[39m\u001b[38;5;241m.\u001b[39mcolumns\u001b[38;5;241m.\u001b[39mnlevels \u001b[38;5;241m>\u001b[39m \u001b[38;5;241m1\u001b[39m:\n\u001b[0;32m   4101\u001b[0m     \u001b[38;5;28;01mreturn\u001b[39;00m \u001b[38;5;28mself\u001b[39m\u001b[38;5;241m.\u001b[39m_getitem_multilevel(key)\n\u001b[1;32m-> 4102\u001b[0m indexer \u001b[38;5;241m=\u001b[39m \u001b[38;5;28;43mself\u001b[39;49m\u001b[38;5;241;43m.\u001b[39;49m\u001b[43mcolumns\u001b[49m\u001b[38;5;241;43m.\u001b[39;49m\u001b[43mget_loc\u001b[49m\u001b[43m(\u001b[49m\u001b[43mkey\u001b[49m\u001b[43m)\u001b[49m\n\u001b[0;32m   4103\u001b[0m \u001b[38;5;28;01mif\u001b[39;00m is_integer(indexer):\n\u001b[0;32m   4104\u001b[0m     indexer \u001b[38;5;241m=\u001b[39m [indexer]\n",
      "File \u001b[1;32me:\\Softwares\\Anaconda\\envs\\envi\\lib\\site-packages\\pandas\\core\\indexes\\base.py:3812\u001b[0m, in \u001b[0;36mIndex.get_loc\u001b[1;34m(self, key)\u001b[0m\n\u001b[0;32m   3807\u001b[0m     \u001b[38;5;28;01mif\u001b[39;00m \u001b[38;5;28misinstance\u001b[39m(casted_key, \u001b[38;5;28mslice\u001b[39m) \u001b[38;5;129;01mor\u001b[39;00m (\n\u001b[0;32m   3808\u001b[0m         \u001b[38;5;28misinstance\u001b[39m(casted_key, abc\u001b[38;5;241m.\u001b[39mIterable)\n\u001b[0;32m   3809\u001b[0m         \u001b[38;5;129;01mand\u001b[39;00m \u001b[38;5;28many\u001b[39m(\u001b[38;5;28misinstance\u001b[39m(x, \u001b[38;5;28mslice\u001b[39m) \u001b[38;5;28;01mfor\u001b[39;00m x \u001b[38;5;129;01min\u001b[39;00m casted_key)\n\u001b[0;32m   3810\u001b[0m     ):\n\u001b[0;32m   3811\u001b[0m         \u001b[38;5;28;01mraise\u001b[39;00m InvalidIndexError(key)\n\u001b[1;32m-> 3812\u001b[0m     \u001b[38;5;28;01mraise\u001b[39;00m \u001b[38;5;167;01mKeyError\u001b[39;00m(key) \u001b[38;5;28;01mfrom\u001b[39;00m \u001b[38;5;21;01merr\u001b[39;00m\n\u001b[0;32m   3813\u001b[0m \u001b[38;5;28;01mexcept\u001b[39;00m \u001b[38;5;167;01mTypeError\u001b[39;00m:\n\u001b[0;32m   3814\u001b[0m     \u001b[38;5;66;03m# If we have a listlike key, _check_indexing_error will raise\u001b[39;00m\n\u001b[0;32m   3815\u001b[0m     \u001b[38;5;66;03m#  InvalidIndexError. Otherwise we fall through and re-raise\u001b[39;00m\n\u001b[0;32m   3816\u001b[0m     \u001b[38;5;66;03m#  the TypeError.\u001b[39;00m\n\u001b[0;32m   3817\u001b[0m     \u001b[38;5;28mself\u001b[39m\u001b[38;5;241m.\u001b[39m_check_indexing_error(key)\n",
      "\u001b[1;31mKeyError\u001b[0m: 'UTCstart'"
     ]
    }
   ],
   "source": [
    "def compute_max_overlap(gdf, max_num):\n",
    "    \"\"\"\n",
    "    计算最大公共相交区域，限制组合计算的最大数量。\n",
    "    \n",
    "    参数:\n",
    "        gdf (GeoDataFrame): 包含多边形和时间属性的 GeoDataFrame。\n",
    "        max_num (int): 组合的最大数量。\n",
    "        \n",
    "    返回:\n",
    "        tuple: (最大相交区域, 对应的组合数量, 最大时间跨度)\n",
    "    \"\"\"\n",
    "    max_overlap_area = None\n",
    "    max_overlap_size = 0\n",
    "    max_time_span = None\n",
    "\n",
    "    for n in range(2, max_num + 1):\n",
    "        for indices in combinations(range(len(gdf)), n):\n",
    "            selected_geometries = gdf.iloc[list(indices)].geometry\n",
    "            overlap = selected_geometries.iloc[0]\n",
    "            for geom in selected_geometries.iloc[1:]:\n",
    "                overlap = overlap.intersection(geom)\n",
    "                if overlap.is_empty:\n",
    "                    break  # 如果没有交集，跳出当前组合\n",
    "            else:\n",
    "                # 如果有有效的交集\n",
    "                if max_overlap_area is None or overlap.area > max_overlap_area.area:\n",
    "                    max_overlap_area = overlap\n",
    "                    max_overlap_size = n\n",
    "                    max_time_span = gdf.iloc[list(indices)][\"UTCstart\"].max() - gdf.iloc[list(indices)][\"UTCstart\"].min()\n",
    "        \n",
    "        # 如果在当前组合大小下无交集，则返回上一次的结果\n",
    "        if max_overlap_area is None or max_overlap_area.is_empty:\n",
    "            break\n",
    "\n",
    "    return max_overlap_area, max_overlap_size, max_time_span\n",
    "\n",
    "assessment = {'ProductIds':[], 'View Num': [], 'Area(km^2)':[], 'Time Range': []}\n",
    "print(\"\\nAssessing Intersecting Area and View Numbers\")\n",
    "count_num = 0\n",
    "work_num = len(intsec_idxs)\n",
    "for set_sqc in intsec_idxs:\n",
    "    print(f\"\\r {count_num}/{work_num}         \", end='')\n",
    "    assessment['View Num'].append(len(set_sqc))\n",
    "    # 计算所有多边形的交集\n",
    "    intsec_gdf = merged_gdf.iloc[list(set_sqc)]\n",
    "    # Step 2: Compute the intersection of all polygons\n",
    "    max_overlap, max_overlap_size, max_time_span  = compute_max_overlap(intsec_gdf, 3)\n",
    "    # Step 3: Calculate the area of the intersected region\n",
    "    assessment['Area(km^2)'].append(max_overlap.area/1e6)\n",
    "    # 将时间跨度转换为天数\n",
    "    assessment['Time Range'].append(max_time_span.days)\n",
    "    assessment['ProductIds'].append(intsec_gdf['ProductId'].values)\n",
    "    count_num += 1"
   ]
  },
  {
   "cell_type": "markdown",
   "metadata": {},
   "source": [
    "Save File"
   ]
  },
  {
   "cell_type": "code",
   "execution_count": 17,
   "metadata": {},
   "outputs": [
    {
     "name": "stdout",
     "output_type": "stream",
     "text": [
      "\n",
      "Dictionary has been saved to assessment.csv\n"
     ]
    }
   ],
   "source": [
    "# 保存为CSV文件\n",
    "assessment.to_csv('assessment.csv', index=False, encoding='utf-8-sig')\n",
    "print(\"\\nDictionary has been saved to assessment.csv\")"
   ]
  }
 ],
 "metadata": {
  "language_info": {
   "name": "python"
  }
 },
 "nbformat": 4,
 "nbformat_minor": 2
}
